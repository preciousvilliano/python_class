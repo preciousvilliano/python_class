{
 "cells": [
  {
   "cell_type": "code",
   "execution_count": null,
   "metadata": {},
   "outputs": [],
   "source": [
    "# def register ():\n",
    "#     account_name = input (\"Enter Accoount Name:\")\n",
    "#     process = True\n",
    "#     while process:\n",
    "#         pin = int(input(\"Enter 4 digit Pin: \"))\n",
    "#         if pin not in range (1000,1000):\n",
    "#             print(\"Invalid Pin\")\n",
    "#             print(f'Please try agein')\n",
    "#         else:\n",
    "#             print(\"Registration Successful\")\n",
    "#             process = False\n",
    "#             return account_name, pin\n",
    "        "
   ]
  },
  {
   "cell_type": "code",
   "execution_count": null,
   "metadata": {},
   "outputs": [],
   "source": [
    "# num1 = 3\n",
    "# num = 10\n",
    "# result = num1 + num2"
   ]
  },
  {
   "cell_type": "code",
   "execution_count": null,
   "metadata": {},
   "outputs": [],
   "source": [
    "# print('Your answer is ' + str(result))"
   ]
  },
  {
   "cell_type": "code",
   "execution_count": null,
   "metadata": {},
   "outputs": [],
   "source": [
    "# name, pin = register()\n",
    "# print(name)\n",
    "# print(pin)"
   ]
  },
  {
   "cell_type": "code",
   "execution_count": null,
   "metadata": {},
   "outputs": [],
   "source": [
    "name = input(\"Enter your student name: \")\n",
    "gender = input(\"Enter student gender: \")\n",
    "age = int(input(\"Enter student age: \"))\n",
    "phone_num = input(\"Enter your sudent phone number: \")\n",
    "email_address =input(\"Enter your student email address: \")\n",
    "\n",
    "print(f'Student Name: {name}')\n",
    "print(f'Student gender: {gender}')\n",
    "print(f'Student age: {age}')\n",
    "print(f'Student phone number: {phone_num}')\n",
    "print(f'Student email: {email_address}')"
   ]
  },
  {
   "cell_type": "code",
   "execution_count": 4,
   "metadata": {},
   "outputs": [],
   "source": [
    "def student_info():\n",
    "    name = input(\"Enter your student name: \")\n",
    "    gender = input(\"Enter student gender: \")\n",
    "    age = int(input(\"Enter student age: \"))\n",
    "    phone_num = input(\"Enter your sudent phone number: \")\n",
    "    email_address =input(\"Enter your student email address: \")\n",
    "\n",
    "    print(f'Student Name: {name}')\n",
    "    print(f'Student gender: {gender}')\n",
    "    print(f'Student age: {age}')\n",
    "    print(f'Student phone number: {phone_num}')\n",
    "    print(f'Student email: {email_address}')"
   ]
  },
  {
   "cell_type": "code",
   "execution_count": 7,
   "metadata": {},
   "outputs": [
    {
     "name": "stdout",
     "output_type": "stream",
     "text": [
      "Student Name: vv\n",
      "Student gender: vv\n",
      "Student age: 55\n",
      "Student phone number: kjjkkjj\n",
      "Student email: kjj\n"
     ]
    }
   ],
   "source": [
    "student_info()"
   ]
  },
  {
   "cell_type": "code",
   "execution_count": null,
   "metadata": {},
   "outputs": [],
   "source": [
    "return"
   ]
  },
  {
   "cell_type": "code",
   "execution_count": null,
   "metadata": {},
   "outputs": [],
   "source": [
    "# studentf_file = {\n",
    "#     'name':name,\n",
    "#     'gender': gender,\n",
    "#     'age':age,\n",
    "#     'phone num':phone_num,\n",
    "#     'mail': email_address,\n",
    "# }"
   ]
  }
 ],
 "metadata": {
  "kernelspec": {
   "display_name": "Python 3",
   "language": "python",
   "name": "python3"
  },
  "language_info": {
   "codemirror_mode": {
    "name": "ipython",
    "version": 3
   },
   "file_extension": ".py",
   "mimetype": "text/x-python",
   "name": "python",
   "nbconvert_exporter": "python",
   "pygments_lexer": "ipython3",
   "version": "3.11.5"
  },
  "orig_nbformat": 4
 },
 "nbformat": 4,
 "nbformat_minor": 2
}
