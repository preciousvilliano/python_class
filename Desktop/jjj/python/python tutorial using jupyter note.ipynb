{
 "cells": [
  {
   "cell_type": "code",
   "execution_count": 6,
   "metadata": {},
   "outputs": [
    {
     "name": "stdout",
     "output_type": "stream",
     "text": [
      "12569865\n",
      "wrong\n"
     ]
    }
   ],
   "source": [
    "# password = input(\"Enter your password: \")  # Prompt the user for input\n",
    "# print(password)\n",
    "\n",
    "# if len(password) > 8:\n",
    "#     print(\"right\")\n",
    "# else:\n",
    "#     print(\"wrong\")"
   ]
  },
  {
   "cell_type": "code",
   "execution_count": 11,
   "metadata": {},
   "outputs": [
    {
     "name": "stdout",
     "output_type": "stream",
     "text": [
      "[1, 2, 3, 4, 5, [6, 7, 8, 9, 10]]\n"
     ]
    }
   ],
   "source": [
    "var1 = [1,2,3,4,5]\n",
    "var2 = [6,7,8,9,10]\n",
    "\n",
    "var1.append(var2)\n",
    "print(var1)"
   ]
  },
  {
   "cell_type": "code",
   "execution_count": 12,
   "metadata": {},
   "outputs": [
    {
     "name": "stdout",
     "output_type": "stream",
     "text": [
      "[1, 2, 3, 4, 5, [6, 7, 8, 9, 10]]\n"
     ]
    }
   ],
   "source": [
    "print(var1)"
   ]
  },
  {
   "cell_type": "code",
   "execution_count": null,
   "metadata": {},
   "outputs": [],
   "source": [
    "var1 = [1,2,3,4,5]\n",
    "var2 = [6,7,8,9,10]\n",
    "\n",
    "var1.(var2)\n",
    "print(var1)"
   ]
  },
  {
   "cell_type": "code",
   "execution_count": 22,
   "metadata": {},
   "outputs": [],
   "source": [
    "new_list = var1"
   ]
  },
  {
   "cell_type": "code",
   "execution_count": 23,
   "metadata": {},
   "outputs": [
    {
     "name": "stdout",
     "output_type": "stream",
     "text": [
      "True\n"
     ]
    }
   ],
   "source": [
    "print(2==2.0)"
   ]
  },
  {
   "cell_type": "code",
   "execution_count": 24,
   "metadata": {},
   "outputs": [
    {
     "ename": "SyntaxError",
     "evalue": "invalid character '”' (U+201D) (651606213.py, line 1)",
     "output_type": "error",
     "traceback": [
      "\u001b[1;36m  Cell \u001b[1;32mIn[24], line 1\u001b[1;36m\u001b[0m\n\u001b[1;33m    print(str(True),end = ” “)\u001b[0m\n\u001b[1;37m                          ^\u001b[0m\n\u001b[1;31mSyntaxError\u001b[0m\u001b[1;31m:\u001b[0m invalid character '”' (U+201D)\n"
     ]
    }
   ],
   "source": [
    "print(str(True),end = ” “)\n",
    "\n",
    "int(“4.5”)"
   ]
  },
  {
   "cell_type": "code",
   "execution_count": 26,
   "metadata": {},
   "outputs": [
    {
     "data": {
      "text/plain": [
       "'Hello,World!'"
      ]
     },
     "execution_count": 26,
     "metadata": {},
     "output_type": "execute_result"
    }
   ],
   "source": [
    "\"Hello,World!\""
   ]
  },
  {
   "cell_type": "code",
   "execution_count": 5,
   "metadata": {},
   "outputs": [
    {
     "name": "stdout",
     "output_type": "stream",
     "text": [
      "no\n"
     ]
    }
   ],
   "source": [
    "if 8 + 2 == 13:\n",
    "    print(\"yes\")\n",
    "else:\n",
    "    print(\"no\")"
   ]
  },
  {
   "cell_type": "code",
   "execution_count": 6,
   "metadata": {},
   "outputs": [
    {
     "name": "stdout",
     "output_type": "stream",
     "text": [
      "You are a teenager.\n"
     ]
    }
   ],
   "source": [
    "age = 16\n",
    "\n",
    "if age >= 18:\n",
    "    print(\"You are an adult.\")\n",
    "elif age >= 13:\n",
    "    print(\"You are a teenager.\")\n",
    "else:\n",
    "    print(\"You are a child.\")"
   ]
  },
  {
   "cell_type": "code",
   "execution_count": 54,
   "metadata": {},
   "outputs": [],
   "source": [
    "bag = ['spoon,''wig,''mirrow']"
   ]
  },
  {
   "cell_type": "code",
   "execution_count": 55,
   "metadata": {},
   "outputs": [
    {
     "name": "stdout",
     "output_type": "stream",
     "text": [
      "['spoon,wig,mirrow']\n"
     ]
    }
   ],
   "source": [
    "print(bag)"
   ]
  },
  {
   "cell_type": "code",
   "execution_count": 56,
   "metadata": {},
   "outputs": [],
   "source": [
    "bag.append('diaper')"
   ]
  },
  {
   "cell_type": "code",
   "execution_count": 57,
   "metadata": {},
   "outputs": [
    {
     "name": "stdout",
     "output_type": "stream",
     "text": [
      "['spoon,wig,mirrow', 'diaper']\n"
     ]
    }
   ],
   "source": [
    "print(bag)"
   ]
  },
  {
   "cell_type": "code",
   "execution_count": 60,
   "metadata": {},
   "outputs": [
    {
     "data": {
      "text/plain": [
       "1"
      ]
     },
     "execution_count": 60,
     "metadata": {},
     "output_type": "execute_result"
    }
   ],
   "source": [
    "bag.count('diaper')"
   ]
  },
  {
   "cell_type": "code",
   "execution_count": 67,
   "metadata": {},
   "outputs": [
    {
     "name": "stdout",
     "output_type": "stream",
     "text": [
      "['spoon,wig,mirrow', 'diaper']\n"
     ]
    }
   ],
   "source": [
    "print(bag)"
   ]
  },
  {
   "cell_type": "code",
   "execution_count": 69,
   "metadata": {},
   "outputs": [],
   "source": [
    "bag.insert(0,\"wig\")\n",
    "bag.insert(2,\"wig\")\n",
    "bag.insert(4,\"wig\")"
   ]
  },
  {
   "cell_type": "code",
   "execution_count": 70,
   "metadata": {},
   "outputs": [
    {
     "name": "stdout",
     "output_type": "stream",
     "text": [
      "['wig', 'wig', 'wig', 'spoon,wig,mirrow', 'wig', 'diaper']\n"
     ]
    }
   ],
   "source": [
    "print(bag)"
   ]
  },
  {
   "cell_type": "code",
   "execution_count": 72,
   "metadata": {},
   "outputs": [
    {
     "data": {
      "text/plain": [
       "4"
      ]
     },
     "execution_count": 72,
     "metadata": {},
     "output_type": "execute_result"
    }
   ],
   "source": [
    "bag.count(\"wig\")"
   ]
  },
  {
   "cell_type": "code",
   "execution_count": 76,
   "metadata": {},
   "outputs": [],
   "source": [
    "# def is use for defining a funtion\n",
    "name = \"Etiosa\"\n",
    "def change_name(loc_name):\n",
    "    print(loc_name)"
   ]
  },
  {
   "cell_type": "code",
   "execution_count": null,
   "metadata": {},
   "outputs": [],
   "source": [
    "a = 2\n",
    "b = 6\n",
    "\n",
    "if a > 10:\n",
    "    name = 'Grace'\n",
    "    print('yes')\n",
    "    "
   ]
  },
  {
   "cell_type": "code",
   "execution_count": 78,
   "metadata": {},
   "outputs": [
    {
     "name": "stdout",
     "output_type": "stream",
     "text": [
      "0\n",
      "3\n",
      "6\n",
      "9\n"
     ]
    }
   ],
   "source": [
    "for number in range(0,10,3):\n",
    "    print(number)"
   ]
  },
  {
   "cell_type": "code",
   "execution_count": null,
   "metadata": {},
   "outputs": [],
   "source": [
    "40 to 50 is equal to D"
   ]
  },
  {
   "cell_type": "markdown",
   "metadata": {},
   "source": [
    "40 to 50 is= D\n",
    "51 to 60 = c\n",
    "61 to 75=b\n",
    "76 to 100 =a"
   ]
  },
  {
   "cell_type": "code",
   "execution_count": 84,
   "metadata": {},
   "outputs": [
    {
     "name": "stdout",
     "output_type": "stream",
     "text": [
      "1030\n"
     ]
    }
   ],
   "source": [
    "score = int(input(\"Enter student score\"))\n",
    "print(score + 30) "
   ]
  },
  {
   "cell_type": "code",
   "execution_count": 89,
   "metadata": {},
   "outputs": [
    {
     "name": "stdout",
     "output_type": "stream",
     "text": [
      "Student score can not be greater than 100\n"
     ]
    }
   ],
   "source": [
    "if score > 100:\n",
    "    print(\"Student score can not be greater than 100\")\n",
    "elif score >= 40 and score <= 50:\n",
    "    print(\"Student's grade is D\")\n",
    "elif score >= 51 and score <= 60:\n",
    "    print (\"Student's grade is C\")\n",
    "elif score >= 61 and score <= 75:\n",
    "    print(\"Student's grade is A\")\n",
    "else:\n",
    "    print(\"Failed\")"
   ]
  },
  {
   "cell_type": "code",
   "execution_count": 82,
   "metadata": {},
   "outputs": [],
   "source": [
    "# num1 =10\n",
    "# num2 =20\n",
    "# num3 =30\n",
    "# if num1 > num2 or num1 > num3:\n",
    "#     print(\"num1 is the highest number\")"
   ]
  },
  {
   "cell_type": "markdown",
   "metadata": {},
   "source": [
    "when defining, anything inside the bracket is a Paramenter\n",
    "when calling a funtion anything inside the bracket is an argument"
   ]
  },
  {
   "cell_type": "code",
   "execution_count": null,
   "metadata": {},
   "outputs": [],
   "source": [
    "def gradingSystem(score):\n",
    " if score > 100:\n",
    "    print(\"Student score can not be greater than 100\")\n",
    "elif score >= 40 and score <= 50:\n",
    "    print(\"Student's grade is D\")\n",
    "elif score >= 51 and score <= 60:\n",
    "    print (\"Student's grade is C\")\n",
    "elif score >= 61 and score <= 75:\n",
    "    print(\"Student's grade is A\")\n",
    "else:\n",
    "    print(\"Failed\")"
   ]
  },
  {
   "cell_type": "code",
   "execution_count": null,
   "metadata": {},
   "outputs": [],
   "source": [
    "score =int(input(\"Enter student score:\"))\n",
    "gradingSystem(score)"
   ]
  }
 ],
 "metadata": {
  "kernelspec": {
   "display_name": "Python 3",
   "language": "python",
   "name": "python3"
  },
  "language_info": {
   "codemirror_mode": {
    "name": "ipython",
    "version": 3
   },
   "file_extension": ".py",
   "mimetype": "text/x-python",
   "name": "python",
   "nbconvert_exporter": "python",
   "pygments_lexer": "ipython3",
   "version": "3.11.5"
  },
  "orig_nbformat": 4
 },
 "nbformat": 4,
 "nbformat_minor": 2
}
